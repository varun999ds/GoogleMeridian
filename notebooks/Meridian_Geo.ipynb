{
  "cells": [
    {
      "cell_type": "markdown",
      "metadata": {
        "id": "view-in-github",
        "colab_type": "text"
      },
      "source": [
        "<a href=\"https://colab.research.google.com/github/varun999ds/GoogleMeridian/blob/main/notebooks/Meridian_Geo.ipynb\" target=\"_parent\"><img src=\"https://colab.research.google.com/assets/colab-badge.svg\" alt=\"Open In Colab\"/></a>"
      ]
    },
    {
      "cell_type": "markdown",
      "metadata": {
        "id": "yuQtvbG_vILv"
      },
      "source": [
        "<table class=\"tfo-notebook-buttons\" align=\"left\">\n",
        "  <td>\n",
        "    <a target=\"_blank\" href=\"https://colab.research.google.com/github/google/meridian/blob/main/demo/Meridian_Getting_Started.ipynb\"><img src=\"https://www.tensorflow.org/images/colab_logo_32px.png\" />Run in Google Colab</a>\n",
        "  </td>\n",
        "  <td>\n",
        "    <a target=\"_blank\" href=\"https://github.com/google/meridian/blob/main/demo/Meridian_Getting_Started.ipynb\"><img src=\"https://www.tensorflow.org/images/GitHub-Mark-32px.png\" />View source on GitHub</a>\n",
        "  </td>\n",
        "</table>"
      ]
    },
    {
      "cell_type": "markdown",
      "metadata": {
        "id": "KqSiFABximWU"
      },
      "source": [
        "# **Introduction to Meridian Demo**"
      ]
    },
    {
      "cell_type": "markdown",
      "metadata": {
        "id": "ckR-pavwis-Q"
      },
      "source": [
        "Welcome to the Meridian end-to-end demo. This simplified demo showcases the fundamental functionalities and basic usage of the library, including working examples of the major modeling steps:\n",
        "\n",
        "\n",
        "<ol start=\"0\">\n",
        "  <li><a href=\"#install\">Install</a></li>\n",
        "  <li><a href=\"#load-data\">Load the data</a></li>\n",
        "  <li><a href=\"#configure-model\">Configure the model</a></li>\n",
        "  <li><a href=\"#model-diagnostics\">Run model diagnostics</a></li>\n",
        "  <li><a href=\"#generate-summary\">Generate model results & two-page output</a></li>\n",
        "  <li><a href=\"#generate-optimize\">Run budget optimization & two-page output</a></li>\n",
        "  <li><a href=\"#save-model\">Save the model object</a></li>\n",
        "</ol>\n",
        "\n",
        "\n",
        "Note that this notebook skips all of the exploratory data analysis and preprocessing steps. It assumes that you have completed these tasks before reaching this point in the demo.\n",
        "\n",
        "This notebook utilizes sample data. As a result, the numbers and results obtained might not accurately reflect what you encounter when working with a real dataset."
      ]
    },
    {
      "cell_type": "markdown",
      "metadata": {
        "id": "GicRPam0mUhF"
      },
      "source": [
        "<a name=\"install\"></a>\n",
        "## Step 0: Install"
      ]
    },
    {
      "cell_type": "markdown",
      "metadata": {
        "id": "pDdX9WofM2fx"
      },
      "source": [
        "1\\. Make sure you are using one of the available GPU Colab runtimes which is **required** to run Meridian. You can change your notebook's runtime in `Runtime > Change runtime type` in the menu. All users can use the T4 GPU runtime which is sufficient to run the demo colab, free of charge. Users who have purchased one of Colab's paid plans have access to premium GPUs (such as V100, A100 or L4 Nvidia GPU)."
      ]
    },
    {
      "cell_type": "markdown",
      "metadata": {
        "id": "nFYRTDuesa1P"
      },
      "source": [
        "2\\. Install the latest version of Meridian, and verify that GPU is available."
      ]
    },
    {
      "cell_type": "code",
      "execution_count": null,
      "metadata": {
        "id": "h1jAk386jF3k"
      },
      "outputs": [],
      "source": [
        "# Install meridian: from PyPI @ latest release\n",
        "!pip install --upgrade google-meridian[colab,and-cuda]\n",
        "\n",
        "# Install meridian: from PyPI @ specific version\n",
        "# !pip install google-meridian[colab,and-cuda]==1.1.1\n",
        "\n",
        "# Install meridian: from GitHub @HEAD\n",
        "# !pip install --upgrade \"google-meridian[colab,and-cuda] @ git+https://github.com/google/meridian.git@main\""
      ]
    },
    {
      "cell_type": "code",
      "execution_count": null,
      "metadata": {
        "id": "Fhwt1wzgLwpZ"
      },
      "outputs": [],
      "source": [
        "\n",
        "import arviz as az\n",
        "import IPython\n",
        "from meridian import constants\n",
        "from meridian.analysis import analyzer\n",
        "from meridian.analysis import formatter\n",
        "from meridian.analysis import optimizer\n",
        "from meridian.analysis import summarizer\n",
        "from meridian.analysis import visualizer\n",
        "from meridian.data import data_frame_input_data_builder\n",
        "from meridian.data import test_utils\n",
        "from meridian.model import model\n",
        "from meridian.model import prior_distribution\n",
        "from meridian.model import spec\n",
        "import numpy as np\n",
        "import pandas as pd\n",
        "# check if GPU is available\n",
        "from psutil import virtual_memory\n",
        "import tensorflow as tf\n",
        "import tensorflow_probability as tfp\n",
        "\n",
        "ram_gb = virtual_memory().total / 1e9\n",
        "print('Your runtime has {:.1f} gigabytes of available RAM\\n'.format(ram_gb))\n",
        "print(\n",
        "    'Num GPUs Available: ',\n",
        "    len(tf.config.experimental.list_physical_devices('GPU')),\n",
        ")\n",
        "print(\n",
        "    'Num CPUs Available: ',\n",
        "    len(tf.config.experimental.list_physical_devices('CPU')),\n",
        ")"
      ]
    },
    {
      "cell_type": "code",
      "source": [
        "import seaborn as sns\n",
        "import matplotlib.pyplot as plt"
      ],
      "metadata": {
        "id": "J1ScJYaZHawI"
      },
      "execution_count": null,
      "outputs": []
    },
    {
      "cell_type": "markdown",
      "source": [
        "This notebook will run with the Regional data."
      ],
      "metadata": {
        "id": "_fisJMBt2BRx"
      }
    },
    {
      "cell_type": "markdown",
      "source": [
        "This notebok is saved in local github"
      ],
      "metadata": {
        "id": "jmPewfRytYvq"
      }
    },
    {
      "cell_type": "markdown",
      "metadata": {
        "id": "kiM0UrN6qbIP"
      },
      "source": [
        "<a name=\"load-data\"></a>\n",
        "## Step 1: Load the data"
      ]
    },
    {
      "cell_type": "markdown",
      "source": [],
      "metadata": {
        "id": "WUCWB8f1G8dK"
      }
    },
    {
      "cell_type": "markdown",
      "metadata": {
        "id": "z18Mo-22x0lY"
      },
      "source": [
        "Load the [simulated dataset in CSV format](https://github.com/google/meridian/blob/main/meridian/data/simulated_data/csv/geo_all_channels.csv) as follows."
      ]
    },
    {
      "cell_type": "markdown",
      "metadata": {
        "id": "tZd-ik8NbjK6"
      },
      "source": [
        "1\\. Read the data into a Pandas DataFrame."
      ]
    },
    {
      "cell_type": "code",
      "execution_count": null,
      "metadata": {
        "id": "7sV1ChiEYuyD"
      },
      "outputs": [],
      "source": [
        "df = pd.read_csv(\n",
        "    \"https://raw.githubusercontent.com/google/meridian/refs/heads/main/meridian/data/simulated_data/csv/geo_all_channels.csv\"\n",
        ")\n",
        "\n",
        "nationalPDF = pd.read_csv(\"https://raw.githubusercontent.com/varun999ds/GoogleMeridian/main/Simulated_Data_National.csv\")\n",
        "\n",
        "regionalPDF = pd.read_csv(\"https://raw.githubusercontent.com/varun999ds/GoogleMeridian/main/Simulated_Data_RF.csv\")\n"
      ]
    },
    {
      "cell_type": "code",
      "source": [
        "df = df.drop(columns=['Unnamed: 0'], axis = 1)\n",
        "df.columns"
      ],
      "metadata": {
        "id": "mmL7zrXvzpFv"
      },
      "execution_count": null,
      "outputs": []
    },
    {
      "cell_type": "code",
      "source": [
        "df.describe()"
      ],
      "metadata": {
        "id": "cLbifZJr2Noc"
      },
      "execution_count": null,
      "outputs": []
    },
    {
      "cell_type": "code",
      "source": [
        "regionalPDF = regionalPDF.drop(columns=['Unnamed: 0'], axis = 1)\n",
        "regionalPDF.columns\n"
      ],
      "metadata": {
        "id": "VvX7yCQ_wj8z"
      },
      "execution_count": null,
      "outputs": []
    },
    {
      "cell_type": "code",
      "source": [
        "print(regionalPDF.dtypes, '\\n\\n')\n",
        "print(regionalPDF.isnull().sum())"
      ],
      "metadata": {
        "collapsed": true,
        "id": "L4ZEfZFkIitR"
      },
      "execution_count": null,
      "outputs": []
    },
    {
      "cell_type": "code",
      "source": [
        "regionalPDF.describe()"
      ],
      "metadata": {
        "id": "yQp1k1b7wj_B"
      },
      "execution_count": null,
      "outputs": []
    },
    {
      "cell_type": "code",
      "source": [
        "print(len(regionalPDF['time'].unique()))\n",
        "print(regionalPDF['time'].min(), nationalPDF['time'].max())"
      ],
      "metadata": {
        "id": "zw4zTyydwkJZ"
      },
      "execution_count": null,
      "outputs": []
    },
    {
      "cell_type": "code",
      "source": [
        "regionalPDF = regionalPDF.sort_values(by=['time'])\n",
        "\n",
        "#different type of columns:\n",
        "spend_cols = [col for col in regionalPDF.columns if 'spend' in col]\n",
        "print('spend_cols - ', spend_cols)\n",
        "impression_cols = [col for col in regionalPDF.columns if 'impression' in col]\n",
        "print('impression_cols - ', impression_cols)\n",
        "reach_cols = [col for col in regionalPDF.columns if 'reach' in col]\n",
        "print('reach_cols - ', reach_cols)\n",
        "frequency_cols = [col for col in regionalPDF.columns if 'frequency' in col]\n",
        "print('frequency_cols - ', frequency_cols)"
      ],
      "metadata": {
        "id": "fQr3W12KOBdp"
      },
      "execution_count": null,
      "outputs": []
    },
    {
      "cell_type": "code",
      "source": [
        "#Check for correlation\n",
        "correlation_matrix = regionalPDF[spend_cols + impression_cols + reach_cols + frequency_cols + ['conversions']].corr()\n",
        "\n",
        "correlation_matrix = pd.DataFrame(np.triu(correlation_matrix), index=correlation_matrix.columns, columns=correlation_matrix.columns)\n",
        "\n",
        "plt.figure(figsize=(10, 6)) # Adjust figure size as needed\n",
        "sns.heatmap(correlation_matrix, annot=True, cmap='coolwarm', fmt=\".2f\", linewidths=.5)\n",
        "plt.title('Correlation Heatmap of Features')\n",
        "plt.show()"
      ],
      "metadata": {
        "id": "RFxLz00PIFhf"
      },
      "execution_count": null,
      "outputs": []
    },
    {
      "cell_type": "code",
      "source": [
        "# Check for  / visualize the parameters in the mertices.\n",
        "pdf = regionalPDF[spend_cols + impression_cols + reach_cols + frequency_cols + ['conversions']]\n",
        "plt.figure(figsize=(9, 5))\n",
        "pdf[spend_cols].boxplot()\n",
        "plt.title('Box Plots of spend')\n",
        "plt.ylabel('spend')\n",
        "plt.show()\n",
        "\n",
        "plt.figure(figsize=(10, 5))\n",
        "pdf[impression_cols].boxplot()\n",
        "\n",
        "plt.title('Box Plots of impressions')\n",
        "plt.ylabel('impressions')\n",
        "plt.show()"
      ],
      "metadata": {
        "id": "45u2CkkQwkLJ"
      },
      "execution_count": null,
      "outputs": []
    },
    {
      "cell_type": "code",
      "source": [
        "import matplotlib.pyplot as plt\n",
        "import numpy as np\n",
        "\n",
        "#plot conversions\n",
        "plt.figure(figsize=(20, 5))\n",
        "# Plot the first series\n",
        "plt.plot(regionalPDF.sort_values('time')['time'].unique(), regionalPDF.groupby(['time']).sum()['conversions'], label='Series 1 (Linear)')\n",
        "\n",
        "# # Add labels and title for clarity\n",
        "plt.xlabel('X-axis')\n",
        "plt.ylabel('Y-axis')\n",
        "# plt.title('Two Series on the Same Plot')\n",
        "\n",
        "# # Add a legend to distinguish the series\n",
        "# plt.legend()\n",
        "\n",
        "# Display the plot\n",
        "plt.show()"
      ],
      "metadata": {
        "id": "MM_MfukKaNix"
      },
      "execution_count": null,
      "outputs": []
    },
    {
      "cell_type": "code",
      "source": [],
      "metadata": {
        "id": "s5o6BbvSm4vI"
      },
      "execution_count": null,
      "outputs": []
    },
    {
      "cell_type": "markdown",
      "metadata": {
        "id": "8JBDZzl80BrY"
      },
      "source": [
        "2\\. Create a DataFrameInputDataBuilder instance."
      ]
    },
    {
      "cell_type": "code",
      "execution_count": null,
      "metadata": {
        "id": "4qdTSk4a0znn"
      },
      "outputs": [],
      "source": [
        "# builder = data_frame_input_data_builder.DataFrameInputDataBuilder(\n",
        "#     kpi_type='non_revenue',\n",
        "#     default_kpi_column='conversions',\n",
        "#     default_revenue_per_kpi_column='revenue_per_conversion',\n",
        "# )"
      ]
    },
    {
      "cell_type": "markdown",
      "metadata": {
        "id": "LNr75vQL1Zru"
      },
      "source": [
        "3\\. Offer the components to the builder. Note that the components may be offered all at once or piecewise."
      ]
    },
    {
      "cell_type": "code",
      "execution_count": null,
      "metadata": {
        "id": "udaLGvwl1U8B"
      },
      "outputs": [],
      "source": [
        "from meridian.data import data_frame_input_data_builder as data_builder\n",
        "\n",
        "builder = data_builder.DataFrameInputDataBuilder(\n",
        "    kpi_type='non_revenue',\n",
        "    default_kpi_column=\"conversions\",\n",
        "    default_revenue_per_kpi_column=\"revenue_per_conversion\",\n",
        ")\n",
        "builder = (\n",
        "    builder\n",
        "        .with_kpi(regionalPDF)\n",
        "        .with_revenue_per_kpi(regionalPDF)\n",
        "        .with_population(regionalPDF)\n",
        "        .with_controls(regionalPDF, control_cols=[\"GQV\", \"Competitor_Discount\"])\n",
        "        .with_reach(\n",
        "            regionalPDF,\n",
        "            reach_cols = reach_cols,\n",
        "            frequency_cols = frequency_cols,\n",
        "            rf_spend_cols = ['Channel4_spend', 'Channel5_spend'],\n",
        "            rf_channels = ['Channel4', 'Channel5'],\n",
        "        )\n",
        ")\n",
        "\n",
        "channels = [\"Channel0\", \"Channel1\", \"Channel2\", \"Channel3\"]\n",
        "builder = builder.with_media(\n",
        "    regionalPDF,\n",
        "    media_cols=[f\"{channel}_impression\" for channel in channels],\n",
        "    media_spend_cols=[f\"{channel}_spend\" for channel in channels],\n",
        "    media_channels=channels,\n",
        ")\n",
        "\n",
        "data = builder.build()"
      ]
    },
    {
      "cell_type": "markdown",
      "metadata": {
        "id": "DlF5vs8vb8Wn"
      },
      "source": [
        "Note that the simulated data here does not contain reach and frequency. We recommend including reach and frequency data whenever they are available. For information about the advantages of utilizing reach and frequency, see [Bayesian Hierarchical Media Mix Model Incorporating Reach and Frequency Data](https://research.google/pubs/bayesian-hierarchical-media-mix-model-incorporating-reach-and-frequency-data/#:~:text=By%20incorporating%20R%26F%20into%20MMM,based%20on%20optimal%20frequency%20recommendations.). For code snippet for loading reach and frequency data, see [Load geo-level data with reach and frequency](https://developers.google.com/meridian/docs/user-guide/load-geo-data-with-rf)\n",
        "\n",
        "The documentation provides guidance for instances where reach and frequency data is accessible for specific channels. Additionally, for information about how to load other data types and formats, including data with reach and frequency, see [Supported data types and formats](https://developers.google.com/meridian/docs/user-guide/supported-data-types-formats)."
      ]
    },
    {
      "cell_type": "markdown",
      "metadata": {
        "id": "FO6pDd6f2V1L"
      },
      "source": [
        "<a name=\"configure-model\"></a>\n",
        "## Step 2: Configure the model"
      ]
    },
    {
      "cell_type": "markdown",
      "metadata": {
        "id": "a_mQI7HzxxK4"
      },
      "source": [
        "Meridian uses Bayesian framework and Markov Chain Monte Carlo (MCMC) algorithms to sample from the posterior distribution.\n",
        "\n",
        "1\\. Inititalize the `Meridian` class by passing the loaded data and the customized model specification. One advantage of Meridian lies in its capacity to calibrate the model directly through ROI priors, as described in [Media Mix Model Calibration With Bayesian Priors](https://research.google/pubs/media-mix-model-calibration-with-bayesian-priors/). In this particular example, the ROI priors for all media channels are identical, with each being represented as Lognormal(0.2, 0.9)."
      ]
    },
    {
      "cell_type": "code",
      "execution_count": null,
      "metadata": {
        "id": "8XNDd7HX1qTn"
      },
      "outputs": [],
      "source": [
        "import tensorflow_probability as tfp\n",
        "from meridian.data import input_data\n",
        "from meridian.model import prior_distribution\n",
        "from meridian.model import spec\n",
        "from meridian import constants\n",
        "\n",
        "# roi_mu = 0.2  # Mu for ROI prior for each media channel.\n",
        "# roi_sigma = .9  # Sigma for ROI prior for each media channel.\n",
        "# prior = prior_distribution.PriorDistribution(\n",
        "#     roi_m=tfp.distributions.LogNormal(roi_mu, roi_sigma, name=constants.ROI_M)\n",
        "# )\n",
        "\n",
        "#Specify the priors for media channels:\n",
        "#my_input_data = input_data.InputData(kpi = regionalPDF['conversions'], kpi_type='non_revenue', population=regionalPDF['population'])\n",
        "build_media_channel_args = data.get_paid_media_channels_argument_builder()\n",
        "\n",
        "# ROI prior for channels without R&F data\n",
        "roi_m = build_media_channel_args(\n",
        "  Channel0=(0.5, 0.9),\n",
        "  Channel1=(0.5, 0.9),\n",
        "  Channel2=(0.5, 0.9),\n",
        "  Channel3=(0.5, 0.9),\n",
        ")\n",
        "roi_m_mu, roi_m_sigma = zip(*roi_m)\n",
        "\n",
        "# ROI prior for channels with R&F data\n",
        "build_rf_channel_args = data.get_paid_rf_channels_argument_builder()\n",
        "roi_rf = build_rf_channel_args(\n",
        "  Channel4=(0.5, 0.8),\n",
        "  Channel5=(0.5, 0.8),\n",
        ")\n",
        "roi_rf_mu, roi_rf_sigma = zip(*roi_rf)\n",
        "\n",
        "prior = prior_distribution.PriorDistribution(\n",
        "    roi_m=tfp.distributions.LogNormal(\n",
        "        roi_m_mu, roi_m_sigma, name=constants.ROI_M\n",
        "    ),\n",
        "    roi_rf=tfp.distributions.LogNormal(\n",
        "        roi_rf_mu, roi_rf_sigma, name=constants.ROI_RF\n",
        "    ),\n",
        ")\n",
        "model_spec = spec.ModelSpec(prior=prior)"
      ]
    },
    {
      "cell_type": "code",
      "source": [
        "# prior.sigma.sample()"
      ],
      "metadata": {
        "id": "wHRs5GBh3-PE"
      },
      "execution_count": null,
      "outputs": []
    },
    {
      "cell_type": "code",
      "source": [
        "model_spec = spec.ModelSpec(\n",
        "    prior=prior_distribution.PriorDistribution(),\n",
        "    media_effects_dist='log_normal',\n",
        "    hill_before_adstock=False,\n",
        "    max_lag=8,\n",
        "    unique_sigma_for_each_geo=False,\n",
        "    media_prior_type='roi',\n",
        "    roi_calibration_period=None,\n",
        "    rf_prior_type='roi',\n",
        "    rf_roi_calibration_period=None,\n",
        "    organic_media_prior_type='contribution',\n",
        "    organic_rf_prior_type='contribution',\n",
        "    non_media_treatments_prior_type='contribution',\n",
        "    knots=3,\n",
        "    baseline_geo=None,\n",
        "    holdout_id=None,\n",
        "    control_population_scaling_id=None,\n",
        ")"
      ],
      "metadata": {
        "id": "wVaeW3Tcrjcm"
      },
      "execution_count": null,
      "outputs": []
    },
    {
      "cell_type": "code",
      "source": [
        "mmm = model.Meridian(input_data=data, model_spec=model_spec)"
      ],
      "metadata": {
        "id": "m_kcARJ8eIdn"
      },
      "execution_count": null,
      "outputs": []
    },
    {
      "cell_type": "markdown",
      "metadata": {
        "id": "kPQBPlX8cmEv"
      },
      "source": [
        "2\\. Use the `sample_prior()` and `sample_posterior()` methods to obtain samples from the prior and posterior distributions of model parameters. If you are using the T4 GPU runtime this step may take about 10 minutes for the provided data set."
      ]
    },
    {
      "cell_type": "code",
      "execution_count": null,
      "metadata": {
        "id": "KVB3avRdcRNz"
      },
      "outputs": [],
      "source": [
        "%%time\n",
        "mmm.sample_prior(500)\n",
        "mmm.sample_posterior(\n",
        "    n_chains=10, n_adapt=2000, n_burnin=500, n_keep=1000, seed=0\n",
        ")"
      ]
    },
    {
      "cell_type": "markdown",
      "metadata": {
        "id": "5WUM2V26cspo"
      },
      "source": [
        "For more information about configuring the parameters and using a customized model specification, such as setting different ROI priors for each media channel, see [Configure the model](https://developers.google.com/meridian/docs/user-guide/configure-model)."
      ]
    },
    {
      "cell_type": "markdown",
      "metadata": {
        "id": "t9oECJwUdJTm"
      },
      "source": [
        "<a name=\"model-diagnostics\"></a>\n",
        "## Step 3: Run model diagnostics"
      ]
    },
    {
      "cell_type": "markdown",
      "metadata": {
        "id": "kSzK6JeMxrV6"
      },
      "source": [
        "After the model is built, you must assess convergence, debug the model if needed, and then assess the model fit.\n",
        "\n",
        "1\\. Assess convergence. Run the following code to generate r-hat statistics. R-hat close to 1.0 indicate convergence. R-hat < 1.2 indicates approximate convergence and is a reasonable threshold for many problems."
      ]
    },
    {
      "cell_type": "code",
      "execution_count": null,
      "metadata": {
        "id": "rFuc7B86yLvM"
      },
      "outputs": [],
      "source": [
        "model_diagnostics = visualizer.ModelDiagnostics(mmm)\n",
        "model_diagnostics.plot_rhat_boxplot()"
      ]
    },
    {
      "cell_type": "code",
      "source": [
        "model_diagnostics"
      ],
      "metadata": {
        "id": "tf02jabF6v78"
      },
      "execution_count": null,
      "outputs": []
    },
    {
      "cell_type": "code",
      "source": [
        "# model_diagnostics = visualizer.ModelDiagnostics(meridian)\n",
        "model_diagnostics.plot_prior_and_posterior_distribution()"
      ],
      "metadata": {
        "id": "TuCHJ5izouwM"
      },
      "execution_count": null,
      "outputs": []
    },
    {
      "cell_type": "markdown",
      "metadata": {
        "id": "nCwt5SGYxlaE"
      },
      "source": [
        "2\\. Assess the model's fit by comparing the expected sales against the actual sales."
      ]
    },
    {
      "cell_type": "code",
      "execution_count": null,
      "metadata": {
        "id": "7Z4zJtHyyhif"
      },
      "outputs": [],
      "source": [
        "model_fit = visualizer.ModelFit(mmm)\n",
        "model_fit.plot_model_fit()"
      ]
    },
    {
      "cell_type": "code",
      "source": [
        "model_diagnostics.predictive_accuracy_table()"
      ],
      "metadata": {
        "id": "cLOCLUAe5X6K"
      },
      "execution_count": null,
      "outputs": []
    },
    {
      "cell_type": "code",
      "source": [
        "media_summary = visualizer.MediaSummary(mmm)\n",
        "media_summary.summary_table()"
      ],
      "metadata": {
        "id": "Co_8Q5xI54hh"
      },
      "execution_count": null,
      "outputs": []
    },
    {
      "cell_type": "code",
      "source": [
        "len(regionalPDF)"
      ],
      "metadata": {
        "id": "sfCzHf31u-SR"
      },
      "execution_count": null,
      "outputs": []
    },
    {
      "cell_type": "code",
      "source": [
        "baseline = model_fit.model_fit_data.baseline\n",
        "# Flatten the 3D array to 1D and then reshape to 2D for DataFrame\n",
        "new_var_flattened = new_var.values.reshape(-1, 1)\n",
        "pd.DataFrame(new_var_flattened, columns=['baseline_value'])"
      ],
      "metadata": {
        "id": "xbF9o8lrte5J"
      },
      "execution_count": null,
      "outputs": []
    },
    {
      "cell_type": "code",
      "source": [
        "model_fit.model_fit_data.data_vars.variables['baseline']"
      ],
      "metadata": {
        "id": "O7dUi-WivKic"
      },
      "execution_count": null,
      "outputs": []
    },
    {
      "cell_type": "markdown",
      "metadata": {
        "id": "76IBQcWLu980"
      },
      "source": [
        "For more information and additional model diagnostics checks, see [Modeling diagnostics](https://developers.google.com/meridian/docs/user-guide/model-diagnostics)."
      ]
    },
    {
      "cell_type": "markdown",
      "metadata": {
        "id": "zGUOFFbCdOtl"
      },
      "source": [
        "<a name=\"generate-summary\"></a>\n",
        "## Step 4: Generate model results & two-page output"
      ]
    },
    {
      "cell_type": "markdown",
      "metadata": {
        "id": "puHjkyvZEOEg"
      },
      "source": [
        "To export the two-page HTML summary output, initialize the `Summarizer` class with the model object. Then pass in the filename, filepath, start date, and end date to `output_model_results_summary` to run the summary for that time duration and save it to the specified file."
      ]
    },
    {
      "cell_type": "code",
      "execution_count": null,
      "metadata": {
        "id": "keOpq1qKNbq0"
      },
      "outputs": [],
      "source": [
        "mmm_summarizer = summarizer.Summarizer(mmm)"
      ]
    },
    {
      "cell_type": "code",
      "execution_count": null,
      "metadata": {
        "id": "Ltr4uP80YQe7"
      },
      "outputs": [],
      "source": [
        "from google.colab import drive\n",
        "\n",
        "drive.mount('/content/drive')"
      ]
    },
    {
      "cell_type": "code",
      "execution_count": null,
      "metadata": {
        "id": "qbgNaDYpIfQl"
      },
      "outputs": [],
      "source": [
        "filepath = '/content/drive/MyDrive/Meridian_OPs/'\n",
        "start_date = '2021-01-25'\n",
        "end_date = '2024-01-15'\n",
        "mmm_summarizer.output_model_results_summary(\n",
        "    'Regional_prior_.5_std_.8.html', filepath, start_date, end_date\n",
        ")"
      ]
    },
    {
      "cell_type": "markdown",
      "metadata": {
        "id": "j9sBxuvidmr8"
      },
      "source": [
        "Here is a preview of the two-page output based on the simulated data:"
      ]
    },
    {
      "cell_type": "code",
      "execution_count": null,
      "metadata": {
        "id": "vaUe7uZRfJPm"
      },
      "outputs": [],
      "source": [
        "IPython.display.HTML(filename='/content/drive/MyDrive/Meridian_OPs/Regional_prior_.5_std_.8.html')"
      ]
    },
    {
      "cell_type": "markdown",
      "metadata": {
        "id": "PphWMfKdwPIw"
      },
      "source": [
        "For a customized two-page report, model results summary table, and individual visualizations, see [Model results report](https://developers.google.com/meridian/docs/user-guide/generate-model-results-report) and [plot media visualizations](https://developers.google.com/meridian/docs/user-guide/plot-media-visualizations).\n",
        "\n",
        "\n",
        "\n"
      ]
    },
    {
      "cell_type": "markdown",
      "metadata": {
        "id": "msqwz2MN5mTq"
      },
      "source": [
        "<a name=\"generate-optimize\"></a>\n",
        "## Step 5: Run budget optimization & generate an optimization report"
      ]
    },
    {
      "cell_type": "markdown",
      "metadata": {
        "id": "khCL6Q2sS-iy"
      },
      "source": [
        "You can choose what scenario to run for the budget allocation. In default scenario, you find the optimal allocation across channels for a given budget to maximize the return on investment (ROI).\n",
        "\n",
        "1\\. Instantiate the `BudgetOptimizer` class and run the `optimize()` method without any customization, to run the default library's Fixed Budget Scenario to maximize ROI."
      ]
    },
    {
      "cell_type": "code",
      "execution_count": null,
      "metadata": {
        "id": "38lhqyLvHf51"
      },
      "outputs": [],
      "source": [
        "%%time\n",
        "budget_optimizer = optimizer.BudgetOptimizer(mmm)\n",
        "optimization_results = budget_optimizer.optimize()"
      ]
    },
    {
      "cell_type": "markdown",
      "metadata": {
        "id": "fLOMqDmCRKRO"
      },
      "source": [
        "2\\. Export the 2-page HTML optimization report, which contains optimized spend allocations and ROI."
      ]
    },
    {
      "cell_type": "code",
      "execution_count": null,
      "metadata": {
        "id": "at7V7YEh_zwZ"
      },
      "outputs": [],
      "source": [
        "filepath = '/content/drive/MyDrive/Meridian_OPs/'\n",
        "optimization_results.output_optimization_summary(\n",
        "    'Regional_prior_.5_std_.8.html', filepath\n",
        ")"
      ]
    },
    {
      "cell_type": "code",
      "execution_count": null,
      "metadata": {
        "id": "jq_mcrj1STDU"
      },
      "outputs": [],
      "source": [
        "IPython.display.HTML(filename='/content/drive/MyDrive/Meridian_OPs/Regional_prior_.5_std_.8.html')"
      ]
    },
    {
      "cell_type": "markdown",
      "metadata": {
        "id": "kIWTubaN0RKC"
      },
      "source": [
        "For information about customized optimization scenarios, such as flexible budget scenarios, see [Budget optimization scenarios](https://developers.google.com/meridian/docs/user-guide/budget-optimization-scenarios). For more information about optimization results summary and individual visualizations, see [optimization results output](https://developers.google.com/meridian/docs/user-guide/generate-optimization-results-output) and [optimization visualizations](https://developers.google.com/meridian/docs/user-guide/plot-optimization-visualizations)."
      ]
    },
    {
      "cell_type": "markdown",
      "metadata": {
        "id": "3m98O3a_TrVg"
      },
      "source": [
        "<a name=\"save-model\"></a>\n",
        "## Step 6: Save the model object"
      ]
    },
    {
      "cell_type": "markdown",
      "metadata": {
        "id": "2Zjh64YG8Dti"
      },
      "source": [
        "We recommend that you save the model object for future use. This helps you to  avoid repetitive model runs and saves time and computational resources. After the model object is saved, you can load it at a later stage to continue the analysis or visualizations without having to re-run the model.\n"
      ]
    },
    {
      "cell_type": "markdown",
      "metadata": {
        "id": "1kamZpyv8KMh"
      },
      "source": [
        "Run the following codes to save the model object:"
      ]
    },
    {
      "cell_type": "code",
      "execution_count": null,
      "metadata": {
        "id": "FfaQQ8-fTw0K"
      },
      "outputs": [],
      "source": [
        "file_path = '/content/drive/MyDrive/Meridian_models/Regional_prior_.5_std_.8.pkl'\n",
        "model.save_mmm(mmm, file_path)"
      ]
    },
    {
      "cell_type": "markdown",
      "metadata": {
        "id": "k2v_s2uS8PgA"
      },
      "source": [
        "Run the following codes to load the saved model:"
      ]
    },
    {
      "cell_type": "code",
      "execution_count": null,
      "metadata": {
        "id": "ZGUmiYI48epA"
      },
      "outputs": [],
      "source": [
        "mmm = model.load_mmm(file_path)"
      ]
    },
    {
      "cell_type": "code",
      "metadata": {
        "id": "96c3365b"
      },
      "source": [
        "from google.colab import drive\n",
        "\n",
        "drive.mount('/content/drive')"
      ],
      "execution_count": null,
      "outputs": []
    }
  ],
  "metadata": {
    "accelerator": "GPU",
    "colab": {
      "gpuType": "T4",
      "private_outputs": true,
      "provenance": [],
      "include_colab_link": true
    },
    "kernelspec": {
      "display_name": "Python 3",
      "name": "python3"
    },
    "language_info": {
      "name": "python"
    }
  },
  "nbformat": 4,
  "nbformat_minor": 0
}